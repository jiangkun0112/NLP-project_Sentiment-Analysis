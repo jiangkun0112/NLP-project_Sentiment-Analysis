{
 "cells": [
  {
   "cell_type": "markdown",
   "metadata": {},
   "source": [
    "# Project: Sentiment Analysis\n",
    "\n",
    "**Author: Kun Jiang (kunjiang0112@gmail.com)**\n",
    "\n",
    "This project addresses the problem of sentiment analysis in IMDB movie reviews by classifying movie comments according to the sentiment expressed in them: \"positive\" or \"negative\". The purpose of this project is to describe the process to develop a automatic classifier using machine learning and deep learning algorithms for accurate sentiment classification of an unknown IMDB movie comment. \n",
    "\n",
    "In this notebook, I use different packages in Python to build a complete pipeline for solving sentiment analysis problem\n",
    "\n",
    "**Outline:**\n",
    "\n",
    "- Load Dataset\n",
    "\n",
    "- Feature Extraction\n",
    "    * Count Vectorizer\n",
    "    * Tf-idf\n",
    "\n",
    "- Classification Models\n",
    "    * Naive Bayes \n",
    "    * Supported Vector Machine(SVM)\n",
    "    * Tf-idf + Logistic Regression\n",
    "    * Deep Learning (CNN & LSTM)\n",
    "    \n",
    "    \n",
    "Make sure the following enviroment and packages are installed:\n",
    "\n",
    "- anaconda3 w/ python 3.6\n",
    "- scikit-learn\n",
    "- tensorflow\n",
    "- keras\n",
    "- nltk\n",
    "- pandas, numpy, matplotlib\n",
    "\n"
   ]
  },
  {
   "cell_type": "markdown",
   "metadata": {},
   "source": [
    "# Load Dataset\n",
    "\n",
    "The Movie Review Data is a collection of movie reviews retrieved from the imdb.com website. You can download the dataset from here:\n",
    "\n",
    "Large Movie Review Dataset http://ai.stanford.edu/~amaas/data/sentiment/\n",
    "\n",
    "The dataset provides a set of 25,000 highly polar movie reviews for training (train.csv), and 25,000 for testing (test.csv). Raw text and already processed bag of words formats are provided.\n",
    "\n",
    "Next, let’s look at loading and preparing the text data."
   ]
  },
  {
   "cell_type": "code",
   "execution_count": 1,
   "metadata": {},
   "outputs": [],
   "source": [
    "import pandas as pd\n",
    "import numpy as np\n",
    "import nltk\n",
    "import string\n",
    "import matplotlib.pyplot as plt"
   ]
  },
  {
   "cell_type": "code",
   "execution_count": 2,
   "metadata": {},
   "outputs": [],
   "source": [
    "# Load csv file into DataFrame\n",
    "train = pd.read_csv('train.csv')\n",
    "test = pd.read_csv('test.csv')"
   ]
  },
  {
   "cell_type": "code",
   "execution_count": 3,
   "metadata": {},
   "outputs": [
    {
     "name": "stdout",
     "output_type": "stream",
     "text": [
      "sentiment  : pos\n",
      "reviewText : For a movie that gets no respect there sure are a lot of memorable quotes listed for this gem. Imagine a movie where Joe Piscopo is actually funny! Maureen Stapleton is a scene stealer. The Moroni character is an absolute scream. Watch for Alan \"The Skipper\" Hale jr. as a police Sgt.\n"
     ]
    }
   ],
   "source": [
    "print(\"sentiment  :\", train.sentiment[0])\n",
    "print(\"reviewText :\", train.reviewText[0])"
   ]
  },
  {
   "cell_type": "code",
   "execution_count": 4,
   "metadata": {},
   "outputs": [
    {
     "data": {
      "text/plain": [
       "(25000, 2)"
      ]
     },
     "execution_count": 4,
     "metadata": {},
     "output_type": "execute_result"
    }
   ],
   "source": [
    "train.shape"
   ]
  },
  {
   "cell_type": "code",
   "execution_count": 5,
   "metadata": {},
   "outputs": [
    {
     "data": {
      "text/html": [
       "<div>\n",
       "<style scoped>\n",
       "    .dataframe tbody tr th:only-of-type {\n",
       "        vertical-align: middle;\n",
       "    }\n",
       "\n",
       "    .dataframe tbody tr th {\n",
       "        vertical-align: top;\n",
       "    }\n",
       "\n",
       "    .dataframe thead th {\n",
       "        text-align: right;\n",
       "    }\n",
       "</style>\n",
       "<table border=\"1\" class=\"dataframe\">\n",
       "  <thead>\n",
       "    <tr style=\"text-align: right;\">\n",
       "      <th></th>\n",
       "      <th>reviewText</th>\n",
       "      <th>sentiment</th>\n",
       "    </tr>\n",
       "  </thead>\n",
       "  <tbody>\n",
       "    <tr>\n",
       "      <th>0</th>\n",
       "      <td>For a movie that gets no respect there sure ar...</td>\n",
       "      <td>pos</td>\n",
       "    </tr>\n",
       "    <tr>\n",
       "      <th>1</th>\n",
       "      <td>Bizarre horror movie filled with famous faces ...</td>\n",
       "      <td>pos</td>\n",
       "    </tr>\n",
       "    <tr>\n",
       "      <th>2</th>\n",
       "      <td>A solid, if unremarkable film. Matthau, as Ein...</td>\n",
       "      <td>pos</td>\n",
       "    </tr>\n",
       "    <tr>\n",
       "      <th>3</th>\n",
       "      <td>It's a strange feeling to sit alone in a theat...</td>\n",
       "      <td>pos</td>\n",
       "    </tr>\n",
       "    <tr>\n",
       "      <th>4</th>\n",
       "      <td>You probably all already know this by now, but...</td>\n",
       "      <td>pos</td>\n",
       "    </tr>\n",
       "  </tbody>\n",
       "</table>\n",
       "</div>"
      ],
      "text/plain": [
       "                                          reviewText sentiment\n",
       "0  For a movie that gets no respect there sure ar...       pos\n",
       "1  Bizarre horror movie filled with famous faces ...       pos\n",
       "2  A solid, if unremarkable film. Matthau, as Ein...       pos\n",
       "3  It's a strange feeling to sit alone in a theat...       pos\n",
       "4  You probably all already know this by now, but...       pos"
      ]
     },
     "execution_count": 5,
     "metadata": {},
     "output_type": "execute_result"
    }
   ],
   "source": [
    "# Get a sample (head) of the data frame\n",
    "train.head()"
   ]
  },
  {
   "cell_type": "code",
   "execution_count": 6,
   "metadata": {},
   "outputs": [
    {
     "data": {
      "text/plain": [
       "neg    12500\n",
       "pos    12500\n",
       "Name: sentiment, dtype: int64"
      ]
     },
     "execution_count": 6,
     "metadata": {},
     "output_type": "execute_result"
    }
   ],
   "source": [
    "# Statics on tags\n",
    "train.sentiment.value_counts()\n"
   ]
  },
  {
   "cell_type": "code",
   "execution_count": 7,
   "metadata": {},
   "outputs": [
    {
     "data": {
      "image/png": "[encoded data removed]",
      "text/plain": [
       "<Figure size 432x288 with 1 Axes>"
      ]
     },
     "metadata": {},
     "output_type": "display_data"
    }
   ],
   "source": [
    "plt.bar(train.sentiment.unique(), train.sentiment.value_counts())\n",
    "plt.xlabel('Sentiment Level')\n",
    "plt.ylabel('Count')\n",
    "plt.title('Sentiment level distribution in train data')\n",
    "plt.show()"
   ]
  },
  {
   "cell_type": "code",
   "execution_count": 8,
   "metadata": {},
   "outputs": [
    {
     "data": {
      "image/png": "[encoded data removed]",
      "text/plain": [
       "<Figure size 432x288 with 1 Axes>"
      ]
     },
     "metadata": {},
     "output_type": "display_data"
    }
   ],
   "source": [
    "plt.bar(test.sentiment.unique(), test.sentiment.value_counts())\n",
    "plt.xlabel('Sentiment Level')\n",
    "plt.ylabel('Count')\n",
    "plt.title('Sentiment level distribution in test data')\n",
    "plt.show()"
   ]
  },
  {
   "cell_type": "markdown",
   "metadata": {},
   "source": [
    "### Load Data in to List\n",
    "\n",
    "Loading dataset into list helps the processsing of movie reivews"
   ]
  },
  {
   "cell_type": "code",
   "execution_count": 9,
   "metadata": {},
   "outputs": [],
   "source": [
    "def load_data(path):\n",
    "    data = pd.read_csv(path)\n",
    "    x = data['reviewText'].tolist()\n",
    "    y = data['sentiment'].tolist()\n",
    "    return x, y"
   ]
  },
  {
   "cell_type": "code",
   "execution_count": 10,
   "metadata": {},
   "outputs": [],
   "source": [
    "train_x, train_y = load_data('train.csv')\n",
    "test_x, test_y = load_data('test.csv')"
   ]
  },
  {
   "cell_type": "code",
   "execution_count": 11,
   "metadata": {},
   "outputs": [
    {
     "name": "stdout",
     "output_type": "stream",
     "text": [
      "training size: 25000\n",
      "test size: 25000\n"
     ]
    }
   ],
   "source": [
    "print('training size:', len(train_x))\n",
    "print('test size:', len(test_x))"
   ]
  },
  {
   "cell_type": "markdown",
   "metadata": {},
   "source": [
    "### Preprocessing\n",
    "\n",
    "Cleaning the document involves splitting each review based on white space, removing punctuation, and then filtering out all tokens not in the vocabulary.\n",
    "\n",
    "- Just looking at the raw tokens can give us a lot of ideas of things to try, such as:\n",
    "    * Lematize tokens (e.g. 'drive, drove, drived' --> 'driv')\n",
    "    * Remove punctuation from words (e.g. ‘what’s’,  ‘-‘). We can filter out punctuation from tokens using the string translate() function.\n",
    "    * Removing tokens that are just stop words and don't have much meanings (e.g. 'I', 'you', 'me', ‘and’). We can remove stop words using the list loaded using NLTK.\n",
    "    * Removing tokens that are numbers (e.g. ’10′).\n",
    "    * Remove tokens that don’t have much meaning (e.g.)"
   ]
  },
  {
   "cell_type": "code",
   "execution_count": 12,
   "metadata": {},
   "outputs": [],
   "source": [
    "lemmatizer = nltk.WordNetLemmatizer()\n",
    "stopwords = nltk.corpus.stopwords.words('english')\n",
    "transtbl = str.maketrans(string.punctuation, ' ' * len(string.punctuation))"
   ]
  },
  {
   "cell_type": "code",
   "execution_count": 13,
   "metadata": {},
   "outputs": [
    {
     "name": "stdout",
     "output_type": "stream",
     "text": [
      "['i', 'me', 'my', 'myself', 'we', 'our', 'ours', 'ourselves', 'you', \"you're\", \"you've\", \"you'll\", \"you'd\", 'your', 'yours', 'yourself', 'yourselves', 'he', 'him', 'his', 'himself', 'she', \"she's\", 'her', 'hers', 'herself', 'it', \"it's\", 'its', 'itself', 'they', 'them', 'their', 'theirs', 'themselves', 'what', 'which', 'who', 'whom', 'this', 'that', \"that'll\", 'these', 'those', 'am', 'is', 'are', 'was', 'were', 'be', 'been', 'being', 'have', 'has', 'had', 'having', 'do', 'does', 'did', 'doing', 'a', 'an', 'the', 'and', 'but', 'if', 'or', 'because', 'as', 'until', 'while', 'of', 'at', 'by', 'for', 'with', 'about', 'against', 'between', 'into', 'through', 'during', 'before', 'after', 'above', 'below', 'to', 'from', 'up', 'down', 'in', 'out', 'on', 'off', 'over', 'under', 'again', 'further', 'then', 'once', 'here', 'there', 'when', 'where', 'why', 'how', 'all', 'any', 'both', 'each', 'few', 'more', 'most', 'other', 'some', 'such', 'no', 'nor', 'not', 'only', 'own', 'same', 'so', 'than', 'too', 'very', 's', 't', 'can', 'will', 'just', 'don', \"don't\", 'should', \"should've\", 'now', 'd', 'll', 'm', 'o', 're', 've', 'y', 'ain', 'aren', \"aren't\", 'couldn', \"couldn't\", 'didn', \"didn't\", 'doesn', \"doesn't\", 'hadn', \"hadn't\", 'hasn', \"hasn't\", 'haven', \"haven't\", 'isn', \"isn't\", 'ma', 'mightn', \"mightn't\", 'mustn', \"mustn't\", 'needn', \"needn't\", 'shan', \"shan't\", 'shouldn', \"shouldn't\", 'wasn', \"wasn't\", 'weren', \"weren't\", 'won', \"won't\", 'wouldn', \"wouldn't\"]\n"
     ]
    }
   ],
   "source": [
    "print(stopwords)"
   ]
  },
  {
   "cell_type": "code",
   "execution_count": 14,
   "metadata": {},
   "outputs": [
    {
     "data": {
      "text/plain": [
       "'!\"#$%&\\'()*+,-./:;<=>?@[\\\\]^_`{|}~'"
      ]
     },
     "execution_count": 14,
     "metadata": {},
     "output_type": "execute_result"
    }
   ],
   "source": [
    "string.punctuation"
   ]
  },
  {
   "cell_type": "code",
   "execution_count": 15,
   "metadata": {},
   "outputs": [],
   "source": [
    "# preprocessing() function treat a line of comment by removing html tag, converting to lower case, \n",
    "# splitting each review based on white space, removing punctuation\n",
    "def preprocessing(line):\n",
    "    line = line.replace('<br />', '')   # Remove html tag (<br />)\n",
    "    line = line.translate(transtbl)     # Remove punctuation\n",
    "    \n",
    "    # Get tokens\n",
    "    tokens = []\n",
    "    for t in nltk.word_tokenize(line):\n",
    "        t = t.lower()\n",
    "        if t not in stopwords:\n",
    "            lemma = lemmatizer.lemmatize(t, 'v')\n",
    "            tokens.append(lemma)\n",
    "            \n",
    "    return ' '.join(tokens)"
   ]
  },
  {
   "cell_type": "code",
   "execution_count": 16,
   "metadata": {},
   "outputs": [
    {
     "data": {
      "text/plain": [
       "'buy several book yesterday really love'"
      ]
     },
     "execution_count": 16,
     "metadata": {},
     "output_type": "execute_result"
    }
   ],
   "source": [
    "test_str = \"I bought several books yesterday<br /> and I really love them!\"\n",
    "preprocessing(test_str)"
   ]
  },
  {
   "cell_type": "code",
   "execution_count": 17,
   "metadata": {},
   "outputs": [],
   "source": [
    "# Preprocess both train and test data \n",
    "train_x = [preprocessing(x) for x in train_x]\n",
    "test_x = [preprocessing(x) for x in test_x]"
   ]
  },
  {
   "cell_type": "markdown",
   "metadata": {},
   "source": [
    "### Build Vocabulary\n",
    "\n",
    "Before running the model, it is important to build a vocabulary of known words when using a bag-of-words or embedding model. We can develop a vocabulary as a Counter, which is a dictionary mapping of words and their counts that allow us to easily update and query. The more words, the larger the representation of documents, therefore it is important to constrain the words to only those believed to be predictive.\n",
    "\n",
    "nltk provides a simple function to build a covabulary called FreqDist(), which will be used in this part. Each review can be added to the counter and we can step over all of the reviews in the train and test data. "
   ]
  },
  {
   "cell_type": "code",
   "execution_count": 18,
   "metadata": {},
   "outputs": [],
   "source": [
    "# Push all tokens and compute frequency of words\n",
    "all_words = []\n",
    "for line in train_x:\n",
    "    words = line.split()\n",
    "    for w in words:\n",
    "        all_words.append(w)\n",
    "for line in test_x:\n",
    "    words = line.split()\n",
    "    for w in words:\n",
    "        all_words.append(w)\n",
    "        \n",
    "voca = nltk.FreqDist(all_words)"
   ]
  },
  {
   "cell_type": "code",
   "execution_count": 19,
   "metadata": {},
   "outputs": [
    {
     "data": {
      "text/plain": [
       "91654"
      ]
     },
     "execution_count": 19,
     "metadata": {},
     "output_type": "execute_result"
    }
   ],
   "source": [
    "len(voca)"
   ]
  },
  {
   "cell_type": "code",
   "execution_count": 20,
   "metadata": {},
   "outputs": [
    {
     "data": {
      "text/plain": [
       "[('film', 95792),\n",
       " ('movie', 87752),\n",
       " ('one', 53514),\n",
       " ('make', 46110),\n",
       " ('like', 44237),\n",
       " ('see', 41568),\n",
       " ('get', 35666),\n",
       " ('time', 31864),\n",
       " ('good', 29703),\n",
       " ('character', 28299)]"
      ]
     },
     "execution_count": 20,
     "metadata": {},
     "output_type": "execute_result"
    }
   ],
   "source": [
    "# preview the most common 10 words\n",
    "voca.most_common(10)"
   ]
  },
  {
   "cell_type": "markdown",
   "metadata": {},
   "source": [
    "We can see that there are a little over 91,000 unique words across all reviews and the top 10 words are ‘film‘, 'movie', ‘one‘, 'make', 'like', 'see', 'get', 'time', 'good', 'character'.  \n",
    "\n",
    "Generally, words that only appear once or a few times are probably not predictive and can be removed from the vocabulary, greatly cutting down on the tokens we need to model. We can remove the less-frequent words by selecting the top 10000 words. We can then save the chosen vocabulary of words to a new list called topwords"
   ]
  },
  {
   "cell_type": "code",
   "execution_count": 21,
   "metadata": {},
   "outputs": [],
   "source": [
    "# select the top 10, 000 words\n",
    "topwords = [fpair[0] for fpair in list(voca.most_common(10000))]"
   ]
  },
  {
   "cell_type": "markdown",
   "metadata": {},
   "source": [
    "### Vectorizer"
   ]
  },
  {
   "cell_type": "code",
   "execution_count": 22,
   "metadata": {},
   "outputs": [],
   "source": [
    "from sklearn.feature_extraction.text import CountVectorizer\n",
    "from sklearn.feature_extraction.text import TfidfTransformer\n",
    "from sklearn.feature_extraction.text import TfidfVectorizer"
   ]
  },
  {
   "cell_type": "code",
   "execution_count": 23,
   "metadata": {},
   "outputs": [
    {
     "data": {
      "text/plain": [
       "CountVectorizer(analyzer='word', binary=False, decode_error='strict',\n",
       "        dtype=<class 'numpy.int64'>, encoding='utf-8', input='content',\n",
       "        lowercase=True, max_df=1.0, max_features=None, min_df=1,\n",
       "        ngram_range=(1, 1), preprocessor=None, stop_words=None,\n",
       "        strip_accents=None, token_pattern='(?u)\\\\b\\\\w\\\\w+\\\\b',\n",
       "        tokenizer=None, vocabulary=None)"
      ]
     },
     "execution_count": 23,
     "metadata": {},
     "output_type": "execute_result"
    }
   ],
   "source": [
    "cnt_vec = CountVectorizer()\n",
    "cnt_vec"
   ]
  },
  {
   "cell_type": "code",
   "execution_count": 24,
   "metadata": {},
   "outputs": [
    {
     "data": {
      "text/plain": [
       "CountVectorizer(analyzer='word', binary=False, decode_error='strict',\n",
       "        dtype=<class 'numpy.int64'>, encoding='utf-8', input='content',\n",
       "        lowercase=True, max_df=1.0, max_features=None, min_df=1,\n",
       "        ngram_range=(1, 1), preprocessor=None, stop_words=None,\n",
       "        strip_accents=None, token_pattern='(?u)\\\\b\\\\w\\\\w+\\\\b',\n",
       "        tokenizer=None, vocabulary=None)"
      ]
     },
     "execution_count": 24,
     "metadata": {},
     "output_type": "execute_result"
    }
   ],
   "source": [
    "# Create our BAG of words (specify words we care about)\n",
    "cnt_vec.fit(topwords)"
   ]
  },
  {
   "cell_type": "markdown",
   "metadata": {},
   "source": []
  },
  {
   "cell_type": "markdown",
   "metadata": {},
   "source": [
    "### Tf–idf \n",
    "\n",
    "- Tf: term-frequency\n",
    "- idf: inverse document-frequency\n",
    "- Tf-idf = $tf(t,d) \\times idf(t)$\n",
    "\n",
    "TF-IDF stands for Term frequency inverse document frequency, is a statistical measure to see how important the appearance of a word in a document corpus is for classification. Term frequency measures how many times a term has appeared in a particular document, and inverse document frequency measures logarithm inverse of number of ducuments that have that word out of total number of documents. Augmented TF-IDF is used to avoid bias towards longer documents, and it is defined as below for a term $t$ appearing in a particular document $d$:\n",
    "\n",
    "$$ TF(t, d) = 0.5 + \\frac{0.5 \\times freq(t, d)}{max(freq(w, d) \\ \\ where\\  w \\in d)} $$$$IDF(t, D_{train}) = \\frac{|D_{train}|}{|\\{d\\in D_{train} \\ \\ where\\  t \\in d\\}|}$$\n",
    "and\n",
    "\n",
    "$$TFIDF(t, d, D) = TF(t,d) \\times IDF(t, d)$$\n",
    "where $D_{train}=\\{set\\ of\\ all\\ training\\ documents\\}$. It is important to note that TF-IDF depends on the entire set of documents that we are considering (for example the training set), and not just the term in a document\n"
   ]
  },
  {
   "cell_type": "code",
   "execution_count": 25,
   "metadata": {},
   "outputs": [
    {
     "data": {
      "text/plain": [
       "TfidfVectorizer(analyzer='word', binary=False, decode_error='strict',\n",
       "        dtype=<class 'numpy.int64'>, encoding='utf-8', input='content',\n",
       "        lowercase=True, max_df=1.0, max_features=None, min_df=1,\n",
       "        ngram_range=(1, 1), norm='l2', preprocessor=None, smooth_idf=True,\n",
       "        stop_words=None, strip_accents=None, sublinear_tf=False,\n",
       "        token_pattern='(?u)\\\\b\\\\w\\\\w+\\\\b', tokenizer=None, use_idf=True,\n",
       "        vocabulary=None)"
      ]
     },
     "execution_count": 25,
     "metadata": {},
     "output_type": "execute_result"
    }
   ],
   "source": [
    "tf_vec = TfidfVectorizer()\n",
    "tf_vec.fit(topwords)"
   ]
  },
  {
   "cell_type": "markdown",
   "metadata": {},
   "source": [
    "### Feature Extraction"
   ]
  },
  {
   "cell_type": "code",
   "execution_count": 26,
   "metadata": {},
   "outputs": [],
   "source": [
    "# Extract features from training set\n",
    "# Vocabulary is from topwords\n",
    "tf_vec = TfidfVectorizer(vocabulary=topwords)\n",
    "train_features = tf_vec.fit_transform(train_x)"
   ]
  },
  {
   "cell_type": "code",
   "execution_count": 27,
   "metadata": {},
   "outputs": [
    {
     "data": {
      "text/plain": [
       "(25000, 10000)"
      ]
     },
     "execution_count": 27,
     "metadata": {},
     "output_type": "execute_result"
    }
   ],
   "source": [
    "train_features.shape"
   ]
  },
  {
   "cell_type": "code",
   "execution_count": 28,
   "metadata": {},
   "outputs": [
    {
     "data": {
      "text/plain": [
       "(25000, 10000)"
      ]
     },
     "execution_count": 28,
     "metadata": {},
     "output_type": "execute_result"
    }
   ],
   "source": [
    "test_features = tf_vec.transform(test_x)\n",
    "test_features.shape"
   ]
  },
  {
   "cell_type": "markdown",
   "metadata": {},
   "source": [
    "\n",
    "## 1: Naive Bayes\n",
    "Naive bayes is a popular algorithm for classifying text. Although it is fairly simple, it often performs as well as much more complicated solutions. We will start to build a Naive Bayes model, which will be used as a baseline in our prediction. \n",
    "\n",
    "### [Multinomial NB](http://scikit-learn.org/stable/modules/generated/sklearn.naive_bayes.MultinomialNB.html)\n",
    "\n",
    "We will be using Mutinomial Naive Bayes in this section.The multinomial Naive Bayes classifier is suitable for classification with discrete features (e.g., word counts for text classification). The multinomial distribution normally requires integer feature counts. However, in practice, fractional counts such as tf-idf may also work"
   ]
  },
  {
   "cell_type": "code",
   "execution_count": 29,
   "metadata": {},
   "outputs": [],
   "source": [
    "from sklearn.naive_bayes import MultinomialNB"
   ]
  },
  {
   "cell_type": "code",
   "execution_count": 30,
   "metadata": {},
   "outputs": [
    {
     "data": {
      "text/plain": [
       "MultinomialNB(alpha=1.0, class_prior=None, fit_prior=True)"
      ]
     },
     "execution_count": 30,
     "metadata": {},
     "output_type": "execute_result"
    }
   ],
   "source": [
    "mnb_model = MultinomialNB()\n",
    "mnb_model"
   ]
  },
  {
   "cell_type": "code",
   "execution_count": 31,
   "metadata": {},
   "outputs": [
    {
     "name": "stdout",
     "output_type": "stream",
     "text": [
      "Multinomial NB model trained in 0.025601 seconds\n"
     ]
    }
   ],
   "source": [
    "# Train Model\n",
    "import time\n",
    "\n",
    "start = time.time()\n",
    "mnb_model.fit(train_features, train_y)\n",
    "end = time.time()\n",
    "\n",
    "print(\"Multinomial NB model trained in %f seconds\" % (end-start))"
   ]
  },
  {
   "cell_type": "code",
   "execution_count": 32,
   "metadata": {},
   "outputs": [
    {
     "name": "stdout",
     "output_type": "stream",
     "text": [
      "['pos' 'pos' 'pos' ... 'neg' 'neg' 'neg']\n"
     ]
    }
   ],
   "source": [
    "# Predict\n",
    "pred = mnb_model.predict(test_features)\n",
    "print(pred)"
   ]
  },
  {
   "cell_type": "code",
   "execution_count": 33,
   "metadata": {},
   "outputs": [
    {
     "name": "stdout",
     "output_type": "stream",
     "text": [
      "0.83284\n"
     ]
    }
   ],
   "source": [
    "# Metrics\n",
    "# metrics.accuracy_score(y_true, y_pred)\n",
    "from sklearn import metrics\n",
    "accuracy = metrics.accuracy_score(pred,test_y)\n",
    "print(accuracy)"
   ]
  },
  {
   "cell_type": "code",
   "execution_count": 34,
   "metadata": {},
   "outputs": [
    {
     "name": "stdout",
     "output_type": "stream",
     "text": [
      "             precision    recall  f1-score   support\n",
      "\n",
      "        neg       0.81      0.86      0.84     12500\n",
      "        pos       0.86      0.80      0.83     12500\n",
      "\n",
      "avg / total       0.83      0.83      0.83     25000\n",
      "\n"
     ]
    }
   ],
   "source": [
    "# Use keyword arguments to set arguments explicitly\n",
    "print(metrics.classification_report(y_true=test_y, y_pred=pred))"
   ]
  },
  {
   "cell_type": "markdown",
   "metadata": {},
   "source": [
    "#### Select the best topwords number with Word Count and Tf-idf\n",
    "\n",
    "since we have the basic model built with Naive Bayes, we can also optimize the number of topwords with the best performance"
   ]
  },
  {
   "cell_type": "code",
   "execution_count": 35,
   "metadata": {},
   "outputs": [],
   "source": [
    "def train_with_n_topwords(n: int, tfidf=False) -> tuple:\n",
    "    \"\"\"\n",
    "    Train and get the accuracy with different model settings\n",
    "    Args:\n",
    "        n: number of features (top frequent words in the vocabulary)\n",
    "        tfidf: whether do tf-idf re-weighting or not\n",
    "    Outputs:\n",
    "        tuple: (accuracy score, classifier, vectorizer)\n",
    "    \"\"\"\n",
    "    topwords = [fpair[0] for fpair in list(voca.most_common(n))]\n",
    "    \n",
    "    if tfidf:\n",
    "        vec = TfidfVectorizer(vocabulary=topwords)\n",
    "    else:\n",
    "        vec = CountVectorizer(vocabulary=topwords)\n",
    "    \n",
    "    # Generate feature vectors\n",
    "    train_features = vec.fit_transform(train_x)\n",
    "    test_features  = vec.transform(test_x)\n",
    "    \n",
    "    # NB\n",
    "    mnb_model = MultinomialNB()\n",
    "    mnb_model.fit(train_features, train_y)\n",
    "    \n",
    "    # Test predict\n",
    "    pred = mnb_model.predict(test_features)\n",
    "    \n",
    "    return metrics.accuracy_score(pred, test_y), mnb_model, vec"
   ]
  },
  {
   "cell_type": "code",
   "execution_count": 36,
   "metadata": {},
   "outputs": [],
   "source": [
    "possible_n = [500 * i for i in range(1, 20)]\n",
    "\n",
    "cnt_accuracies = []\n",
    "tfidf_accuracies = []\n",
    "\n",
    "for i, n in enumerate(possible_n):\n",
    "    cnt_accuracies.append(train_with_n_topwords(n)[0])\n",
    "   \n",
    "    tfidf_accuracies.append(train_with_n_topwords(n, tfidf=True)[0])\n",
    " "
   ]
  },
  {
   "cell_type": "code",
   "execution_count": 37,
   "metadata": {},
   "outputs": [
    {
     "data": {
      "text/plain": [
       "<matplotlib.legend.Legend at 0x54a9b70>"
      ]
     },
     "execution_count": 37,
     "metadata": {},
     "output_type": "execute_result"
    },
    {
     "data": {
      "image/png": "[encoded data removed]",
      "text/plain": [
       "<Figure size 432x288 with 1 Axes>"
      ]
     },
     "metadata": {},
     "output_type": "display_data"
    }
   ],
   "source": [
    "import matplotlib.pyplot as plt\n",
    "%matplotlib inline\n",
    "\n",
    "plt.plot(possible_n, cnt_accuracies, label='Word Count')\n",
    "plt.plot(possible_n, tfidf_accuracies, label='Tf-idf')\n",
    "plt.legend()"
   ]
  },
  {
   "cell_type": "markdown",
   "metadata": {},
   "source": [
    "#### Save best multinomial NB model (top_N = 3000)\n",
    "\n",
    "From previous step it can be found that the number of topwords at 3000 words gives the best performing model. \n",
    "Here we can save the multinominal NB mode and the vocabulary at 3000 topwords for modeling in the later stage.\n"
   ]
  },
  {
   "cell_type": "code",
   "execution_count": 38,
   "metadata": {},
   "outputs": [],
   "source": [
    "best = train_with_n_topwords(3000, tfidf=True) # best = (acc, model, vec)"
   ]
  },
  {
   "cell_type": "code",
   "execution_count": 39,
   "metadata": {},
   "outputs": [
    {
     "name": "stdout",
     "output_type": "stream",
     "text": [
      "             precision    recall  f1-score   support\n",
      "\n",
      "        neg       0.84      0.85      0.84     12500\n",
      "        pos       0.85      0.84      0.84     12500\n",
      "\n",
      "avg / total       0.84      0.84      0.84     25000\n",
      "\n"
     ]
    }
   ],
   "source": [
    "topwords = [fpair[0] for fpair in list(voca.most_common(3000))]\n",
    "tf_vec = TfidfVectorizer(vocabulary=topwords)\n",
    "train_features = tf_vec.fit_transform(train_x)\n",
    "test_features  = tf_vec.transform(test_x)\n",
    "\n",
    "best_mnb_model = best[1]\n",
    "pred = best_mnb_model.predict(test_features)\n",
    "print(metrics.classification_report(y_true=test_y, y_pred=pred))"
   ]
  },
  {
   "cell_type": "markdown",
   "metadata": {},
   "source": [
    "After optimizing the size of the topwords, the NB model gives around 84% of accuracy using top 3000 words there is a slight improvement compared to the previous NB model (83%).\n",
    "\n",
    "Next, we need to save the vectonizer and the model trained at 3000 topwords for later usage. "
   ]
  },
  {
   "cell_type": "code",
   "execution_count": 40,
   "metadata": {},
   "outputs": [],
   "source": [
    "import pickle\n",
    "\n",
    "# Save vectorizer\n",
    "with open('tf_vec.pkl', 'wb') as pkl_file:\n",
    "    pickle.dump(best[2], pkl_file)\n",
    "\n",
    "with open('mnb_model.pkl', 'wb') as pkl_file:\n",
    "    pickle.dump(best[1], pkl_file)"
   ]
  },
  {
   "cell_type": "code",
   "execution_count": 41,
   "metadata": {},
   "outputs": [
    {
     "name": "stdout",
     "output_type": "stream",
     "text": [
      "the prediction result on the sample comment is: neg\n"
     ]
    }
   ],
   "source": [
    "sample = [\"this movie is bad\"]\n",
    "sample_features  = tf_vec.fit_transform(sample)\n",
    "sample_prediction = best_mnb_model.predict(sample_features)[0]\n",
    "print (\"the prediction result on the sample comment is: \" + sample_prediction)\n"
   ]
  },
  {
   "cell_type": "markdown",
   "metadata": {},
   "source": [
    "## 2. SVM\n",
    "The Supported Vector Machine Classifier constructs a set of hyperplanes in a high dimensional space for classifications, trying to create a line that divides the dataset leaving the larger margin as possible between points called support vectors. In order to achieve a good classification, the distance from hyperplanes to the nearest training points should be maximized."
   ]
  },
  {
   "cell_type": "code",
   "execution_count": 42,
   "metadata": {},
   "outputs": [],
   "source": [
    "import pickle\n",
    "import pandas as pd\n",
    "\n",
    "from sklearn.svm import LinearSVC\n",
    "from sklearn import metrics"
   ]
  },
  {
   "cell_type": "markdown",
   "metadata": {},
   "source": [
    "First we need to reload the td-idf vectornizer pretrained in the previous step. "
   ]
  },
  {
   "cell_type": "code",
   "execution_count": 43,
   "metadata": {},
   "outputs": [],
   "source": [
    "with open('tf_vec.pkl', 'rb') as fp:\n",
    "    tf_vec = pickle.load(fp)"
   ]
  },
  {
   "cell_type": "markdown",
   "metadata": {},
   "source": [
    "After that, we need to reload the data from csv files, process them with the preprocessing() function and transform the train and test features using the tf-idf vectornizer"
   ]
  },
  {
   "cell_type": "code",
   "execution_count": 44,
   "metadata": {},
   "outputs": [],
   "source": [
    "# Load data\n",
    "train_x, train_y = load_data('train.csv')\n",
    "test_x, test_y = load_data('test.csv')\n",
    "# preprocess\n",
    "train_x = [preprocessing(x) for x in train_x]\n",
    "test_x = [preprocessing(x) for x in test_x]\n",
    "# tf_idf transform\n",
    "train_features = tf_vec.fit_transform(train_x)\n",
    "test_features  = tf_vec.transform(test_x)"
   ]
  },
  {
   "cell_type": "markdown",
   "metadata": {},
   "source": [
    "We then create our SVM classifier with the class LinearSVC and train it"
   ]
  },
  {
   "cell_type": "code",
   "execution_count": 45,
   "metadata": {},
   "outputs": [
    {
     "name": "stdout",
     "output_type": "stream",
     "text": [
      "LinearSVC model trained in 0.536604 seconds\n"
     ]
    }
   ],
   "source": [
    "import time\n",
    "\n",
    "start = time.time()\n",
    "\n",
    "svm_model = LinearSVC()\n",
    "svm_model.fit(train_features, train_y)\n",
    "\n",
    "end = time.time()\n",
    "\n",
    "print(\"LinearSVC model trained in %f seconds\" % (end-start))"
   ]
  },
  {
   "cell_type": "markdown",
   "metadata": {},
   "source": [
    "#### SVM prediction\n",
    "\n",
    "Make predictions on test data using the trained SVM model, generate the classification report and check the performance of the classifier. "
   ]
  },
  {
   "cell_type": "code",
   "execution_count": 46,
   "metadata": {},
   "outputs": [],
   "source": [
    "pred = svm_model.predict(test_features)"
   ]
  },
  {
   "cell_type": "code",
   "execution_count": 47,
   "metadata": {},
   "outputs": [
    {
     "name": "stdout",
     "output_type": "stream",
     "text": [
      "0.86528\n"
     ]
    }
   ],
   "source": [
    "accuracy = metrics.accuracy_score(pred,test_y)\n",
    "print(accuracy)"
   ]
  },
  {
   "cell_type": "code",
   "execution_count": 48,
   "metadata": {},
   "outputs": [
    {
     "name": "stdout",
     "output_type": "stream",
     "text": [
      "             precision    recall  f1-score   support\n",
      "\n",
      "        neg       0.87      0.87      0.87     12500\n",
      "        pos       0.87      0.87      0.87     12500\n",
      "\n",
      "avg / total       0.87      0.87      0.87     25000\n",
      "\n"
     ]
    }
   ],
   "source": [
    "print(metrics.classification_report(y_true=test_y, y_pred=pred))"
   ]
  },
  {
   "cell_type": "markdown",
   "metadata": {},
   "source": [
    "Computing the score took less than 1 second only! Running the classifier we get around 87% of accuracy, which is slightly better than the result of the naive bayes classifier. "
   ]
  },
  {
   "cell_type": "code",
   "execution_count": 49,
   "metadata": {},
   "outputs": [
    {
     "name": "stdout",
     "output_type": "stream",
     "text": [
      "the prediction result on the sample comment is: pos\n"
     ]
    }
   ],
   "source": [
    "sample = [\"this movie is not good\"]\n",
    "sample_features  = tf_vec.transform(sample)\n",
    "sample_prediction = svm_model.predict(sample_features)[0]\n",
    "print (\"the prediction result on the sample comment is: \" + sample_prediction)\n"
   ]
  },
  {
   "cell_type": "markdown",
   "metadata": {},
   "source": [
    "### 3. Tf-idf + Logistic Regression\n",
    "\n",
    "Additional to NB and SVM, Logistic regression is also a linear, powerful and widely used model for classifying binary outputs.Logistic regression is a sigmoid function to estimate probabilities between positive or negative label y and data features x.\n",
    "\n",
    "In this section, we will start with train_features prepared in the SVM step and build a Logistic Regresssion model on it. "
   ]
  },
  {
   "cell_type": "code",
   "execution_count": 50,
   "metadata": {},
   "outputs": [],
   "source": [
    "from sklearn.linear_model import LogisticRegression\n",
    "import matplotlib.pyplot as plt\n",
    "%matplotlib inline"
   ]
  },
  {
   "cell_type": "code",
   "execution_count": 51,
   "metadata": {},
   "outputs": [
    {
     "name": "stdout",
     "output_type": "stream",
     "text": [
      "Tf-idf + Logistic Regression model trained in 0.436801 seconds\n"
     ]
    }
   ],
   "source": [
    "import time\n",
    "\n",
    "start = time.time()\n",
    "\n",
    "lgr_model = LogisticRegression()\n",
    "lgr_model.fit(train_features, train_y)\n",
    "\n",
    "end = time.time()\n",
    "\n",
    "print(\"Tf-idf + Logistic Regression model trained in %f seconds\" % (end-start))"
   ]
  },
  {
   "cell_type": "code",
   "execution_count": 52,
   "metadata": {},
   "outputs": [],
   "source": [
    "pred = lgr_model.predict(test_features)"
   ]
  },
  {
   "cell_type": "code",
   "execution_count": 53,
   "metadata": {},
   "outputs": [
    {
     "name": "stdout",
     "output_type": "stream",
     "text": [
      "0.87664\n"
     ]
    }
   ],
   "source": [
    "accuracy = metrics.accuracy_score(pred,test_y)\n",
    "print(accuracy)"
   ]
  },
  {
   "cell_type": "code",
   "execution_count": 54,
   "metadata": {},
   "outputs": [
    {
     "name": "stdout",
     "output_type": "stream",
     "text": [
      "             precision    recall  f1-score   support\n",
      "\n",
      "        neg       0.88      0.87      0.88     12500\n",
      "        pos       0.87      0.88      0.88     12500\n",
      "\n",
      "avg / total       0.88      0.88      0.88     25000\n",
      "\n"
     ]
    }
   ],
   "source": [
    "print(metrics.classification_report(y_true=test_y, y_pred=pred))"
   ]
  },
  {
   "cell_type": "code",
   "execution_count": 55,
   "metadata": {},
   "outputs": [
    {
     "name": "stdout",
     "output_type": "stream",
     "text": [
      "the prediction result on the sample comment is: neg\n"
     ]
    }
   ],
   "source": [
    "sample = [\"this movie is bad\"]\n",
    "sample_features  = tf_vec.transform(sample)\n",
    "sample_prediction = lgr_model.predict(sample_features)[0]\n",
    "print (\"the prediction result on the sample comment is: \" + sample_prediction)\n"
   ]
  },
  {
   "cell_type": "markdown",
   "metadata": {},
   "source": [
    "It can be found that the Tf-idf + Logistic Regression model runs very fast (< 0.5 seconds), yet gives the best accurancy so far (88%). \n",
    "\n",
    "Although Naïve Bayes and Logistic regression are linear classifiers, Naïve Bayes is a generative classifier that tries\n",
    "to predict the likelihood term under the assumption of conditionally independent between features, however, this assumption less happened in the real word problems, but in contrast, Logistic regression is a discriminative classifier that use a Logistic function to get the likelihood directly. In addition, Logistic regression covers the case of a binary dependent variable. As our dataset are going to be classified in a positive and negative labels, it is expected to have better performance than Naïve Bayes and SVM. "
   ]
  },
  {
   "cell_type": "markdown",
   "metadata": {},
   "source": [
    "### 4. Word Embedding with Neural Network model\n",
    "\n",
    "Next, we will explore some of the advanced deep learning algorithms including Neural Networks and LSTM. \n",
    "\n",
    "This seciton will develop word embedding models for neural networks to classify movie reviews. it covers what is word embedding as part of fitting a deep learning model and how to use a pre-trained embedding in a neural network model."
   ]
  },
  {
   "cell_type": "markdown",
   "metadata": {},
   "source": [
    "In order to understand how deep learning can be applied, think about all the different forms of data that are used as inputs into machine learning or deep learning models. Instead of having a string input, we will need to convert each word in the comment in the sentence to a vector. The vector representation of a word is also known as a word embedding.\n",
    "\n",
    "#### load pre-trained word vectors\n",
    "In this part we will use pre-trained word embeddings, as opposed to having the system learn the word embeddings form our data. You can download pre-trained GloVe vectors from the [Stanford webpage](https://nlp.stanford.edu/projects/glove/). \n",
    "\n",
    "Unzipping the file, you will find pre-trained embeddings for various different dimensions. We will load the 50 dimension version in the file ‘glove.6B.50d.txt‘. \n",
    "\n",
    "Here, we’ll pass in words to an embedding layer. You can actually train up an embedding with word2vec and use it here. But it’s good enough to just have an embedding layer and let the network learn the embedding table on it’s own. \n",
    "\n",
    "In order to build the embedding layer, 2 dictionaries need to be loaded:\n",
    "\n",
    "- `word_to_index`: dictionary mapping from words to their indices in the vocabulary\n",
    "- `word_to_vec_map`: dictionary mapping words to their GloVe vector representation.\n",
    "\n",
    "The reason we need `word_to_index` is that when adding a custom embedding layer in Keras, we can only load the pretrained embedding as a matrix instead of a dictionary. A index will help us find the correct entry for a given word"
   ]
  },
  {
   "cell_type": "code",
   "execution_count": 56,
   "metadata": {},
   "outputs": [],
   "source": [
    "def read_glove_vec(glove_file):\n",
    "    with open(glove_file, 'r', encoding='utf-8', errors='ignore') as f:\n",
    "        words = set()\n",
    "        word_to_vec_map = {}\n",
    "        for line in f:\n",
    "            line = line.strip().split()\n",
    "            curr_word = line[0]\n",
    "            words.add(curr_word)\n",
    "            word_to_vec_map[curr_word] = np.array(line[1:], dtype=np.float64)\n",
    "        \n",
    "        i = 1\n",
    "        words_to_index = {}\n",
    "        for w in sorted(words):\n",
    "            words_to_index[w] = i\n",
    "            i = i + 1\n",
    "    return words_to_index, word_to_vec_map"
   ]
  },
  {
   "cell_type": "code",
   "execution_count": 57,
   "metadata": {},
   "outputs": [],
   "source": [
    "# load the 50 dimension version in the file ‘glove.6B.50d.txt‘\n",
    "_, word_to_vec_map = read_glove_vec('data/glove.6B.50d.txt')"
   ]
  },
  {
   "cell_type": "code",
   "execution_count": 58,
   "metadata": {},
   "outputs": [
    {
     "data": {
      "text/plain": [
       "dict"
      ]
     },
     "execution_count": 58,
     "metadata": {},
     "output_type": "execute_result"
    }
   ],
   "source": [
    "type(word_to_vec_map)"
   ]
  },
  {
   "cell_type": "markdown",
   "metadata": {},
   "source": [
    "Next, we need to load all of the training data movie reviews. For that, we can adapt the load_data() and preprocessing() from the previous section to load the csv documents, clean them, and return them as a list of strings. We want each document to be a string for easy encoding as a sequence of integers later."
   ]
  },
  {
   "cell_type": "code",
   "execution_count": 59,
   "metadata": {},
   "outputs": [],
   "source": [
    "train_x, train_y = load_data('train.csv')\n",
    "test_x, test_y = load_data('test.csv')\n",
    "train_x = [preprocessing(x) for x in train_x]\n",
    "test_x = [preprocessing(x) for x in test_x]"
   ]
  },
  {
   "cell_type": "markdown",
   "metadata": {},
   "source": [
    "The next step is to encode each document as a sequence of integers.The Keras Embedding layer requires integer inputs where each integer maps to a single token that has a specific real-valued vector representation within the embedding. We can encode the training documents as sequences of integers using the Tokenizer class in the Keras API.\n",
    "\n",
    "First, we must construct an instance of the class then train it on all documents in the training dataset. In this case, it develops a vocabulary of all tokens in the training dataset and develops a consistent mapping from words in the vocabulary to unique integers. We could just as easily develop this mapping ourselves using our vocabulary file."
   ]
  },
  {
   "cell_type": "code",
   "execution_count": 60,
   "metadata": {},
   "outputs": [
    {
     "name": "stderr",
     "output_type": "stream",
     "text": [
      "C:\\Users\\user\\AppData\\Local\\conda\\conda\\envs\\py36\\lib\\site-packages\\h5py\\__init__.py:36: FutureWarning: Conversion of the second argument of issubdtype from `float` to `np.floating` is deprecated. In future, it will be treated as `np.float64 == np.dtype(float).type`.\n",
      "  from ._conv import register_converters as _register_converters\n",
      "Using TensorFlow backend.\n"
     ]
    }
   ],
   "source": [
    "from keras.preprocessing.text import Tokenizer\n",
    "# create the tokenizer\n",
    "tokenizer = Tokenizer()\n",
    "# fit the tokenizer on the documents\n",
    "tokenizer.fit_on_texts(train_x)"
   ]
  },
  {
   "cell_type": "markdown",
   "metadata": {},
   "source": [
    "Now that the mapping of words to integers has been prepared, we can use it to encode the reviews in both training and test dataset. We can do that by calling the texts_to_sequences() function on the Tokenizer. "
   ]
  },
  {
   "cell_type": "code",
   "execution_count": 61,
   "metadata": {},
   "outputs": [],
   "source": [
    "# sequence encode\n",
    "train_x_ec = tokenizer.texts_to_sequences(train_x)\n",
    "test_x_ec = tokenizer.texts_to_sequences(test_x)"
   ]
  },
  {
   "cell_type": "markdown",
   "metadata": {},
   "source": [
    "After encoding the input features, we also need to encode the output value into binary for both train and test data: \n",
    "- binary encoding: \n",
    "    * pos --> 1\n",
    "    * neg --> 0"
   ]
  },
  {
   "cell_type": "code",
   "execution_count": 62,
   "metadata": {},
   "outputs": [
    {
     "name": "stdout",
     "output_type": "stream",
     "text": [
      "[1 1 1 ... 0 0 0]\n",
      "[1 1 1 ... 0 0 0]\n"
     ]
    }
   ],
   "source": [
    "train_y_ec = np.array([0 if x == 'neg' else 1 for x in train_y])\n",
    "test_y_ec = np.array([0 if x == 'neg' else 1 for x in test_y])\n",
    "print(train_y_ec)\n",
    "print(test_y_ec)"
   ]
  },
  {
   "cell_type": "markdown",
   "metadata": {},
   "source": [
    "Next, We also need to ensure that all documents have the same length. This is a requirement of Keras for efficient computation. Since the reviews differ heavily in terms of lengths we need to have review samples to be the same length.  In this case, we will pad all reviews to 100. If reviews are shorter than the longest review,  we will pad them with zeros. "
   ]
  },
  {
   "cell_type": "code",
   "execution_count": 63,
   "metadata": {},
   "outputs": [],
   "source": [
    "from keras.preprocessing.sequence import pad_sequences\n",
    "\n",
    "# max_length = max([len(s.split()) for s in train_x])\n",
    "Xtrain = pad_sequences(train_x_ec, maxlen=100, padding='post')\n",
    "Xtest = pad_sequences(test_x_ec, maxlen=100, padding='post')"
   ]
  },
  {
   "cell_type": "code",
   "execution_count": 64,
   "metadata": {},
   "outputs": [],
   "source": [
    "# define vocabulary size (largest integer value)\n",
    "vocab_size = len(tokenizer.word_index) + 1"
   ]
  },
  {
   "cell_type": "markdown",
   "metadata": {},
   "source": [
    "We can now load the GloVe embedding and create the Embedding layer. The Glove file does not contain a header file, so we do not need to skip the first line when loading the embedding into memory. The updated load_embedding() function is listed below."
   ]
  },
  {
   "cell_type": "code",
   "execution_count": 65,
   "metadata": {},
   "outputs": [],
   "source": [
    "\n",
    "# load embedding as a dict\n",
    "def load_embedding(filename):\n",
    "\t# load embedding into memory, skip first line\n",
    "\tfile = open(filename,'r',encoding='utf-8', errors='ignore')\n",
    "\tlines = file.readlines()\n",
    "\tfile.close()\n",
    "\t# create a map of words to vectors\n",
    "\tembedding = dict()\n",
    "\tfor line in lines:\n",
    "\t\tparts = line.split()\n",
    "\t\t# key is string word, value is numpy array for vector\n",
    "\t\tembedding[parts[0]] = np.asarray(parts[1:], dtype='float32')\n",
    "\treturn embedding"
   ]
  },
  {
   "cell_type": "markdown",
   "metadata": {},
   "source": [
    "It is possible that the loaded embedding does not contain all of the words in our chosen vocabulary. As such, when creating the Embedding weight matrix, we need to skip words that do not have a corresponding vector in the loaded GloVe data. Below is the updated, more defensive version of the get_weight_matrix() function."
   ]
  },
  {
   "cell_type": "code",
   "execution_count": 66,
   "metadata": {},
   "outputs": [],
   "source": [
    "# from numpy import zeros\n",
    "\n",
    "# create a weight matrix for the Embedding layer from a loaded embedding\n",
    "def get_weight_matrix(embedding, vocab):\n",
    "\t# total vocabulary size plus 0 for unknown words\n",
    "\tvocab_size = len(vocab) + 1\n",
    "\t# define weight matrix dimensions with all 0\n",
    "\tweight_matrix = np.zeros((vocab_size, 50))\n",
    "\t# step vocab, store vectors using the Tokenizer's integer mapping\n",
    "\tfor word, i in vocab.items():\n",
    "\t\tvector = embedding.get(word)\n",
    "\t\tif vector is not None:\n",
    "\t\t\tweight_matrix[i] = vector\n",
    "\treturn weight_matrix"
   ]
  },
  {
   "cell_type": "markdown",
   "metadata": {},
   "source": [
    "Note that the prepared weight matrix embedding_vectors is passed to the new Embedding layer as an argument and that we set the ‘trainable‘ argument to ‘False‘ to ensure that the network does not try to adapt the pre-learned vectors as part of training the network."
   ]
  },
  {
   "cell_type": "code",
   "execution_count": 67,
   "metadata": {},
   "outputs": [],
   "source": [
    "from keras.layers import Embedding\n",
    "# load embedding from file\n",
    "raw_embedding = load_embedding('data/glove.6B.50d.txt')\n",
    "# get vectors in the right order\n",
    "embedding_vectors = get_weight_matrix(raw_embedding, tokenizer.word_index)\n",
    "# create the embedding layer\n",
    "embedding_layer = Embedding(vocab_size, 50, weights=[embedding_vectors], input_length=100, trainable=False)"
   ]
  },
  {
   "cell_type": "markdown",
   "metadata": {},
   "source": [
    "We can now add this layer to our model. We also have a lot more filters (128) in the CNN model and a kernel that matches the 5 words used as neighbors when developing the word2vec embedding. Finally, the back-end of the model was simplified.\n",
    "\n",
    "- Steps of using Keras to build a neural network:\n",
    "    * Define the structure of the network.\n",
    "    * Print the summary of your network to see if shape and #of params is correct.\n",
    "    * Compile the model.\n",
    "    * Fit the model.\n",
    "    * Evaluate the model."
   ]
  },
  {
   "cell_type": "code",
   "execution_count": null,
   "metadata": {},
   "outputs": [
    {
     "name": "stdout",
     "output_type": "stream",
     "text": [
      "_________________________________________________________________\n",
      "Layer (type)                 Output Shape              Param #   \n",
      "=================================================================\n",
      "embedding_1 (Embedding)      (None, 100, 50)           3254100   \n",
      "_________________________________________________________________\n",
      "conv1d_2 (Conv1D)            (None, 96, 128)           32128     \n",
      "_________________________________________________________________\n",
      "max_pooling1d_2 (MaxPooling1 (None, 48, 128)           0         \n",
      "_________________________________________________________________\n",
      "flatten_2 (Flatten)          (None, 6144)              0         \n",
      "_________________________________________________________________\n",
      "dense_2 (Dense)              (None, 1)                 6145      \n",
      "=================================================================\n",
      "Total params: 3,292,373\n",
      "Trainable params: 38,273\n",
      "Non-trainable params: 3,254,100\n",
      "_________________________________________________________________\n",
      "None\n",
      "Epoch 1/100\n",
      " - 16s - loss: 0.5310 - acc: 0.7372\n",
      "Epoch 2/100\n",
      " - 14s - loss: 0.4210 - acc: 0.8086\n",
      "Epoch 3/100\n",
      " - 14s - loss: 0.3429 - acc: 0.8563\n",
      "Epoch 4/100\n",
      " - 15s - loss: 0.2586 - acc: 0.8973\n",
      "Epoch 5/100\n",
      " - 14s - loss: 0.1894 - acc: 0.9316\n",
      "Epoch 6/100\n",
      " - 14s - loss: 0.1345 - acc: 0.9560\n",
      "Epoch 7/100\n",
      " - 14s - loss: 0.0921 - acc: 0.9739\n",
      "Epoch 8/100\n",
      " - 14s - loss: 0.0654 - acc: 0.9848\n",
      "Epoch 9/100\n",
      " - 13s - loss: 0.0450 - acc: 0.9914\n",
      "Epoch 10/100\n",
      " - 14s - loss: 0.0380 - acc: 0.9925\n",
      "Epoch 11/100\n",
      " - 14s - loss: 0.0336 - acc: 0.9919\n",
      "Epoch 12/100\n",
      " - 16s - loss: 0.0310 - acc: 0.9924\n",
      "Epoch 13/100\n",
      " - 15s - loss: 0.0191 - acc: 0.9973\n",
      "Epoch 14/100\n",
      " - 15s - loss: 0.0158 - acc: 0.9970\n",
      "Epoch 15/100\n",
      " - 15s - loss: 0.0195 - acc: 0.9958\n",
      "Epoch 16/100\n",
      " - 15s - loss: 0.0236 - acc: 0.9931\n",
      "Epoch 17/100\n",
      " - 14s - loss: 0.0259 - acc: 0.9918\n",
      "Epoch 18/100\n",
      " - 16s - loss: 0.0104 - acc: 0.9983\n",
      "Epoch 19/100\n",
      " - 15s - loss: 0.0073 - acc: 0.9990\n",
      "Epoch 20/100\n",
      " - 14s - loss: 0.0030 - acc: 0.9999\n",
      "Epoch 21/100\n",
      " - 14s - loss: 0.0014 - acc: 1.0000\n",
      "Epoch 22/100\n",
      " - 14s - loss: 8.6678e-04 - acc: 1.0000\n",
      "Epoch 23/100\n",
      " - 14s - loss: 6.4791e-04 - acc: 1.0000\n",
      "Epoch 24/100\n",
      " - 15s - loss: 4.8785e-04 - acc: 1.0000\n",
      "Epoch 25/100\n",
      " - 14s - loss: 3.7549e-04 - acc: 1.0000\n",
      "Epoch 26/100\n",
      " - 15s - loss: 2.7801e-04 - acc: 1.0000\n",
      "Epoch 27/100\n",
      " - 13s - loss: 2.1174e-04 - acc: 1.0000\n",
      "Epoch 28/100\n",
      " - 14s - loss: 0.0501 - acc: 0.9865\n",
      "Epoch 29/100\n",
      " - 13s - loss: 0.0410 - acc: 0.9854\n",
      "Epoch 30/100\n",
      " - 14s - loss: 0.0116 - acc: 0.9966\n",
      "Epoch 31/100\n",
      " - 15s - loss: 0.0030 - acc: 0.9996\n",
      "Epoch 32/100\n",
      " - 15s - loss: 0.0010 - acc: 1.0000\n",
      "Epoch 33/100\n",
      " - 14s - loss: 5.4279e-04 - acc: 1.0000\n",
      "Epoch 34/100\n",
      " - 14s - loss: 3.9900e-04 - acc: 1.0000\n",
      "Epoch 35/100\n",
      " - 26s - loss: 3.0930e-04 - acc: 1.0000\n",
      "Epoch 36/100\n",
      " - 26s - loss: 2.4148e-04 - acc: 1.0000\n",
      "Epoch 37/100\n",
      " - 16s - loss: 1.9079e-04 - acc: 1.0000\n",
      "Epoch 38/100\n",
      " - 16s - loss: 1.4648e-04 - acc: 1.0000\n",
      "Epoch 39/100\n",
      " - 20s - loss: 1.1143e-04 - acc: 1.0000\n",
      "Epoch 40/100\n",
      " - 16s - loss: 8.4227e-05 - acc: 1.0000\n",
      "Epoch 41/100\n",
      " - 17s - loss: 6.3737e-05 - acc: 1.0000\n",
      "Epoch 42/100\n",
      " - 16s - loss: 4.8240e-05 - acc: 1.0000\n",
      "Epoch 43/100\n",
      " - 17s - loss: 3.5486e-05 - acc: 1.0000\n",
      "Epoch 44/100\n",
      " - 15s - loss: 9.8242e-05 - acc: 1.0000\n",
      "Epoch 45/100\n",
      " - 14s - loss: 0.0765 - acc: 0.9775\n",
      "Epoch 46/100\n",
      " - 14s - loss: 0.0101 - acc: 0.9966\n",
      "Epoch 47/100\n",
      " - 14s - loss: 0.0038 - acc: 0.9991\n",
      "Epoch 48/100\n",
      " - 14s - loss: 0.0012 - acc: 0.9998\n",
      "Epoch 49/100\n",
      " - 15s - loss: 3.5644e-04 - acc: 1.0000\n",
      "Epoch 50/100\n",
      " - 15s - loss: 1.9164e-04 - acc: 1.0000\n",
      "Epoch 51/100\n",
      " - 16s - loss: 1.4656e-04 - acc: 1.0000\n",
      "Epoch 52/100\n",
      " - 14s - loss: 1.1528e-04 - acc: 1.0000\n",
      "Epoch 53/100\n",
      " - 15s - loss: 9.1417e-05 - acc: 1.0000\n",
      "Epoch 54/100\n",
      " - 15s - loss: 7.2745e-05 - acc: 1.0000\n",
      "Epoch 55/100\n",
      " - 14s - loss: 5.6647e-05 - acc: 1.0000\n",
      "Epoch 56/100\n",
      " - 14s - loss: 4.4396e-05 - acc: 1.0000\n",
      "Epoch 57/100\n",
      " - 14s - loss: 3.4503e-05 - acc: 1.0000\n",
      "Epoch 58/100\n",
      " - 14s - loss: 2.6625e-05 - acc: 1.0000\n",
      "Epoch 59/100\n",
      " - 15s - loss: 2.0035e-05 - acc: 1.0000\n",
      "Epoch 60/100\n",
      " - 15s - loss: 1.5018e-05 - acc: 1.0000\n",
      "Epoch 61/100\n",
      " - 14s - loss: 1.1612e-05 - acc: 1.0000\n",
      "Epoch 62/100\n",
      " - 15s - loss: 8.4994e-06 - acc: 1.0000\n",
      "Epoch 63/100\n",
      " - 15s - loss: 6.2335e-06 - acc: 1.0000\n",
      "Epoch 64/100\n",
      " - 14s - loss: 4.6072e-06 - acc: 1.0000\n",
      "Epoch 65/100\n",
      " - 14s - loss: 3.3843e-06 - acc: 1.0000\n",
      "Epoch 66/100\n",
      " - 14s - loss: 2.5186e-06 - acc: 1.0000\n",
      "Epoch 67/100\n",
      " - 14s - loss: 0.0102 - acc: 0.9980\n",
      "Epoch 68/100\n",
      " - 14s - loss: 0.0716 - acc: 0.9799\n",
      "Epoch 69/100\n",
      " - 14s - loss: 0.0173 - acc: 0.9942\n",
      "Epoch 70/100\n",
      " - 15s - loss: 0.0061 - acc: 0.9982\n",
      "Epoch 71/100\n",
      " - 14s - loss: 0.0028 - acc: 0.9992\n",
      "Epoch 72/100\n",
      " - 14s - loss: 0.0068 - acc: 0.9978\n",
      "Epoch 73/100\n",
      " - 14s - loss: 0.0258 - acc: 0.9918\n",
      "Epoch 74/100\n",
      " - 14s - loss: 0.0236 - acc: 0.9924\n",
      "Epoch 75/100\n",
      " - 14s - loss: 0.0118 - acc: 0.9958\n",
      "Epoch 76/100\n",
      " - 14s - loss: 0.0080 - acc: 0.9970\n",
      "Epoch 77/100\n",
      " - 14s - loss: 0.0087 - acc: 0.9972\n",
      "Epoch 78/100\n",
      " - 13s - loss: 0.0054 - acc: 0.9982\n",
      "Epoch 79/100\n",
      " - 14s - loss: 0.0253 - acc: 0.9911\n",
      "Epoch 80/100\n"
     ]
    }
   ],
   "source": [
    "from keras.models import Sequential\n",
    "from keras.layers import Dense\n",
    "from keras.layers import Flatten\n",
    "from keras.layers import Embedding\n",
    "from keras.layers.convolutional import Conv1D\n",
    "from keras.layers.convolutional import MaxPooling1D\n",
    "\n",
    "start = time.time()\n",
    "\n",
    "# define model\n",
    "cnn_model = Sequential()\n",
    "cnn_model.add(embedding_layer)\n",
    "cnn_model.add(Conv1D(filters=128, kernel_size=5, activation='relu'))\n",
    "cnn_model.add(MaxPooling1D(pool_size=2))\n",
    "cnn_model.add(Flatten())\n",
    "cnn_model.add(Dense(1, activation='sigmoid'))\n",
    "print(cnn_model.summary())\n",
    "# compile network\n",
    "cnn_model.compile(loss='binary_crossentropy', optimizer='adam', metrics=['accuracy'])\n",
    "# fit network\n",
    "cnn_model.fit(Xtrain, train_y_ec, epochs=100, verbose=2)\n",
    "\n",
    "end = time.time()\n",
    "print(\"Neural Network model trained in %f seconds\" % (end-start))"
   ]
  },
  {
   "cell_type": "code",
   "execution_count": null,
   "metadata": {},
   "outputs": [],
   "source": [
    "# evaluate\n",
    "loss, acc = cnn_model.evaluate(Xtest, test_y_ec, verbose=2)\n",
    "print('Test Accuracy: %f' % (acc))"
   ]
  },
  {
   "cell_type": "code",
   "execution_count": null,
   "metadata": {},
   "outputs": [],
   "source": [
    "pred = cnn_model.predict(Xtest, verbose=2)\n",
    "# covert pred into binary \n",
    "pred_test_y = [0 if y < 0.5 else 1 for y in pred]\n",
    "print(metrics.classification_report(y_true=test_y_ec, y_pred=pred_test_y))"
   ]
  },
  {
   "cell_type": "code",
   "execution_count": null,
   "metadata": {},
   "outputs": [],
   "source": [
    "sample = [\"this movie is good\"]\n",
    "sample_ec = tokenizer.texts_to_sequences(sample)\n",
    "sample_ec_pad = pad_sequences(sample_ec, maxlen=100, padding='post')\n",
    "sample_prediction = cnn_model.predict(sample_ec_pad)\n",
    "result = \"neg\" if sample_prediction < 0.5 else \"pos\"\n",
    "print (\"the prediction result on the sample comment is: \" + result)"
   ]
  },
  {
   "cell_type": "markdown",
   "metadata": {},
   "source": [
    "Running the example shows that performance was not improved.\n",
    "In fact, performance was a lot worse. The results show that the training dataset was learned successfully, but evaluation on the test dataset was very poor, at just above 75% accuracy."
   ]
  },
  {
   "cell_type": "markdown",
   "metadata": {},
   "source": [
    "### 5. LSTM (Long Short Term Memory)\n",
    "Long-Term Short Term Memory (LSTMs) are a type of network that has a memory that \"remembers\" previous data from the input and makes decisions based on that knowledge. These networks are more directly suited for written data inputs, since each word in a sentence has meaning based on the surrounding words (previous and upcoming words).\n",
    "\n",
    "In our particular case, it is possible that an LSTM could allow us to capture changing sentiment in a comment. The LSTM can learn that sentiments expressed towards the end of a sentence mean more than those expressed at the start."
   ]
  },
  {
   "cell_type": "code",
   "execution_count": null,
   "metadata": {},
   "outputs": [],
   "source": [
    "import numpy as np\n",
    "from keras.models import Model\n",
    "from keras.layers import Dense, Input, Dropout, LSTM, Activation, Embedding\n",
    "from keras.preprocessing import sequence\n",
    "\n",
    "np.random.seed(1)"
   ]
  },
  {
   "cell_type": "code",
   "execution_count": null,
   "metadata": {},
   "outputs": [],
   "source": [
    "word_to_index, word_to_vec_map = read_glove_vec('data/glove.6B.50d.txt')"
   ]
  },
  {
   "cell_type": "code",
   "execution_count": null,
   "metadata": {},
   "outputs": [],
   "source": [
    "from keras.preprocessing import sequence"
   ]
  },
  {
   "cell_type": "code",
   "execution_count": null,
   "metadata": {},
   "outputs": [],
   "source": [
    "from keras.preprocessing.text import Tokenizer\n",
    "# create the tokenizer\n",
    "tokenizer = Tokenizer()\n",
    "# fit the tokenizer on the documents\n",
    "tokenizer.fit_on_texts(train_x)\n",
    "# sequence encode\n",
    "train_x_ec = tokenizer.texts_to_sequences(train_x)\n",
    "test_x_ec = tokenizer.texts_to_sequences(test_x)"
   ]
  },
  {
   "cell_type": "code",
   "execution_count": null,
   "metadata": {},
   "outputs": [],
   "source": [
    "from keras.preprocessing.sequence import pad_sequences\n",
    "\n",
    "Xtrain = pad_sequences(train_x_ec, maxlen=100, padding='post')\n",
    "Xtest = pad_sequences(test_x_ec, maxlen=100, padding='post')"
   ]
  },
  {
   "cell_type": "code",
   "execution_count": null,
   "metadata": {},
   "outputs": [],
   "source": [
    "from keras.layers import Embedding, SpatialDropout1D\n",
    "# load embedding from file\n",
    "raw_embedding = load_embedding('data/glove.6B.50d.txt')\n",
    "# get vectors in the right order\n",
    "embedding_vectors = get_weight_matrix(raw_embedding, tokenizer.word_index)\n",
    "# create the embedding layer\n",
    "embedding_layer = Embedding(vocab_size, 50, weights=[embedding_vectors], input_length=100, trainable=False)"
   ]
  },
  {
   "cell_type": "markdown",
   "metadata": {},
   "source": [
    "Next we will build a LSTM model that receives the processed embedding_layer with vectorized words as input to generate prediction. Our model is composed of the embedding layer as input, a single LSTM layer, a dense layer with tanh activation followed by a logistic regression layer. "
   ]
  },
  {
   "cell_type": "code",
   "execution_count": null,
   "metadata": {},
   "outputs": [],
   "source": [
    "lstm_model = Sequential()\n",
    "lstm_model.add(embedding_layer)\n",
    "lstm_model.add(SpatialDropout1D(0.4))\n",
    "lstm_model.add(LSTM(128, dropout=0.2, recurrent_dropout=0.2))\n",
    "lstm_model.add(Dense(20, activation='tanh'))\n",
    "lstm_model.add(Dense(1, activation='sigmoid'))\n",
    "lstm_model.compile(loss='binary_crossentropy',optimizer='adam',metrics=['accuracy'])\n",
    "end = time.time()\n",
    "print(\"Neural Network model trained in %f seconds\" % (end-start))print(model.summary())"
   ]
  },
  {
   "cell_type": "code",
   "execution_count": null,
   "metadata": {},
   "outputs": [],
   "source": [
    "start = time.time()\n",
    "\n",
    "history = lstm_model.fit(Xtrain, train_y_ec, batch_size=32, epochs = 300, verbose = 2)\n",
    "\n",
    "end = time.time()\n",
    "print(\"LSTM model trained in %f seconds\" % (end-start))"
   ]
  },
  {
   "cell_type": "code",
   "execution_count": null,
   "metadata": {},
   "outputs": [],
   "source": [
    "score,acc = lstm_model.evaluate(Xtest, test_y_ec, verbose = 2, batch_size = 32)\n",
    "print(\"score: %.2f\" % (score))\n",
    "print(\"acc: %.2f\" % (acc))"
   ]
  },
  {
   "cell_type": "code",
   "execution_count": null,
   "metadata": {},
   "outputs": [],
   "source": [
    "pred = lstm_model.predict(Xtest)\n",
    "pred_test_y = [0 if y < 0.5 else 1 for y in pred]\n",
    "print(metrics.classification_report(y_true=test_y_ec, y_pred=pred_test_y))"
   ]
  },
  {
   "cell_type": "markdown",
   "metadata": {},
   "source": [
    "It can be found that the LSTM model provides 87% accurancy, much better than NB, SVM, and CNN but still 1% less than Tf-Idf LR model. "
   ]
  },
  {
   "cell_type": "code",
   "execution_count": null,
   "metadata": {},
   "outputs": [],
   "source": [
    "h = history.history.copy()"
   ]
  },
  {
   "cell_type": "code",
   "execution_count": null,
   "metadata": {},
   "outputs": [],
   "source": [
    "plt.plot(h['acc'])"
   ]
  },
  {
   "cell_type": "code",
   "execution_count": null,
   "metadata": {},
   "outputs": [],
   "source": [
    "plt.plot(h['loss'])"
   ]
  },
  {
   "cell_type": "code",
   "execution_count": null,
   "metadata": {},
   "outputs": [],
   "source": [
    "sample = [\"this movie is not good\"]\n",
    "sample_ec = tokenizer.texts_to_sequences(sample)\n",
    "sample_ec_pad = pad_sequences(sample_ec, maxlen=100, padding='post')\n",
    "sample_prediction = lstm_model.predict(sample_ec_pad)\n",
    "result = \"neg\" if sample_prediction < 0.5 else \"pos\"\n",
    "print (\"the prediction result on the sample comment is: \" + result)"
   ]
  },
  {
   "cell_type": "markdown",
   "metadata": {},
   "source": [
    "Looking at the history curves above, it seems that the model's training is going well. The loss is decreasing steadily, and the accuracy is increasing gradually."
   ]
  },
  {
   "cell_type": "markdown",
   "metadata": {},
   "source": [
    "\n",
    "## Conclusion\n",
    "In this notebook, we went over the entire process to build an automatic sentiment analysis using advanced machine learning and deep learning models including NB, SVM, Logistic Regression, Neural Network, LSTM. We introduced different components involved in the whole pipeline and have evaluated and compared our model performance.  \n",
    "\n",
    "Comparing the different models built before, it can be found that the logistic regression gives the best accurancy with very fast training. The advanced deep learning algorithms (CNN and LSTM) doesn't provide better performance than linear models. One possible explanation for the poor performance might cause by the small size of the dataset (25K), where CNN and RNN should perform better with larger set of training data ( > millions)."
   ]
  }
 ],
 "metadata": {
  "kernelspec": {
   "display_name": "Python 3",
   "language": "python",
   "name": "python3"
  },
  "language_info": {
   "codemirror_mode": {
    "name": "ipython",
    "version": 3
   },
   "file_extension": ".py",
   "mimetype": "text/x-python",
   "name": "python",
   "nbconvert_exporter": "python",
   "pygments_lexer": "ipython3",
   "version": "3.6.5"
  }
 },
 "nbformat": 4,
 "nbformat_minor": 2
}
